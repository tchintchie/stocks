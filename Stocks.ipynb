{
  "nbformat": 4,
  "nbformat_minor": 0,
  "metadata": {
    "colab": {
      "name": "Stocks.ipynb",
      "provenance": [],
      "authorship_tag": "ABX9TyMsaEOjByyZkUNB8So1y2uQ",
      "include_colab_link": true
    },
    "kernelspec": {
      "name": "python3",
      "display_name": "Python 3"
    }
  },
  "cells": [
    {
      "cell_type": "markdown",
      "metadata": {
        "id": "view-in-github",
        "colab_type": "text"
      },
      "source": [
        "<a href=\"https://colab.research.google.com/github/tchintchie/stocks/blob/master/Stocks.ipynb\" target=\"_parent\"><img src=\"https://colab.research.google.com/assets/colab-badge.svg\" alt=\"Open In Colab\"/></a>"
      ]
    },
    {
      "cell_type": "code",
      "metadata": {
        "id": "Eo0gqUuZV-4m",
        "colab_type": "code",
        "colab": {}
      },
      "source": [
        "import numpy as np\n",
        "import matplotlib.pyplot as plt\n",
        "import pandas as pd\n",
        "import datetime as dt\n",
        "import pandas_datareader as web\n",
        "from matplotlib import style\n",
        "style.use(\"ggplot\")"
      ],
      "execution_count": 74,
      "outputs": []
    },
    {
      "cell_type": "code",
      "metadata": {
        "id": "kfkP6GoZGQPs",
        "colab_type": "code",
        "colab": {}
      },
      "source": [
        "df = web.get_data_yahoo(\"GOOGL\")"
      ],
      "execution_count": 75,
      "outputs": []
    },
    {
      "cell_type": "code",
      "metadata": {
        "id": "6-Y8Ik0AJSF6",
        "colab_type": "code",
        "colab": {
          "base_uri": "https://localhost:8080/",
          "height": 238
        },
        "outputId": "c9ae6362-548a-4871-e193-cde2126fee12"
      },
      "source": [
        "df.head()"
      ],
      "execution_count": 76,
      "outputs": [
        {
          "output_type": "execute_result",
          "data": {
            "text/html": [
              "<div>\n",
              "<style scoped>\n",
              "    .dataframe tbody tr th:only-of-type {\n",
              "        vertical-align: middle;\n",
              "    }\n",
              "\n",
              "    .dataframe tbody tr th {\n",
              "        vertical-align: top;\n",
              "    }\n",
              "\n",
              "    .dataframe thead th {\n",
              "        text-align: right;\n",
              "    }\n",
              "</style>\n",
              "<table border=\"1\" class=\"dataframe\">\n",
              "  <thead>\n",
              "    <tr style=\"text-align: right;\">\n",
              "      <th></th>\n",
              "      <th>High</th>\n",
              "      <th>Low</th>\n",
              "      <th>Open</th>\n",
              "      <th>Close</th>\n",
              "      <th>Volume</th>\n",
              "      <th>Adj Close</th>\n",
              "    </tr>\n",
              "    <tr>\n",
              "      <th>Date</th>\n",
              "      <th></th>\n",
              "      <th></th>\n",
              "      <th></th>\n",
              "      <th></th>\n",
              "      <th></th>\n",
              "      <th></th>\n",
              "    </tr>\n",
              "  </thead>\n",
              "  <tbody>\n",
              "    <tr>\n",
              "      <th>2015-07-08</th>\n",
              "      <td>548.280029</td>\n",
              "      <td>541.200012</td>\n",
              "      <td>545.599976</td>\n",
              "      <td>541.700012</td>\n",
              "      <td>1383100</td>\n",
              "      <td>541.700012</td>\n",
              "    </tr>\n",
              "    <tr>\n",
              "      <th>2015-07-09</th>\n",
              "      <td>548.880005</td>\n",
              "      <td>544.619995</td>\n",
              "      <td>548.650024</td>\n",
              "      <td>544.650024</td>\n",
              "      <td>1488300</td>\n",
              "      <td>544.650024</td>\n",
              "    </tr>\n",
              "    <tr>\n",
              "      <th>2015-07-10</th>\n",
              "      <td>559.289978</td>\n",
              "      <td>552.000000</td>\n",
              "      <td>553.710022</td>\n",
              "      <td>556.109985</td>\n",
              "      <td>2171800</td>\n",
              "      <td>556.109985</td>\n",
              "    </tr>\n",
              "    <tr>\n",
              "      <th>2015-07-13</th>\n",
              "      <td>572.849976</td>\n",
              "      <td>558.700012</td>\n",
              "      <td>559.510010</td>\n",
              "      <td>571.729980</td>\n",
              "      <td>2089600</td>\n",
              "      <td>571.729980</td>\n",
              "    </tr>\n",
              "    <tr>\n",
              "      <th>2015-07-14</th>\n",
              "      <td>589.710022</td>\n",
              "      <td>574.169983</td>\n",
              "      <td>574.500000</td>\n",
              "      <td>584.179993</td>\n",
              "      <td>3741600</td>\n",
              "      <td>584.179993</td>\n",
              "    </tr>\n",
              "  </tbody>\n",
              "</table>\n",
              "</div>"
            ],
            "text/plain": [
              "                  High         Low        Open       Close   Volume   Adj Close\n",
              "Date                                                                           \n",
              "2015-07-08  548.280029  541.200012  545.599976  541.700012  1383100  541.700012\n",
              "2015-07-09  548.880005  544.619995  548.650024  544.650024  1488300  544.650024\n",
              "2015-07-10  559.289978  552.000000  553.710022  556.109985  2171800  556.109985\n",
              "2015-07-13  572.849976  558.700012  559.510010  571.729980  2089600  571.729980\n",
              "2015-07-14  589.710022  574.169983  574.500000  584.179993  3741600  584.179993"
            ]
          },
          "metadata": {
            "tags": []
          },
          "execution_count": 76
        }
      ]
    },
    {
      "cell_type": "code",
      "metadata": {
        "id": "sxivWwHZJTkT",
        "colab_type": "code",
        "colab": {}
      },
      "source": [
        "df[\"hl_pct\"] = (df.High - df.Low)/df.Low*100"
      ],
      "execution_count": 77,
      "outputs": []
    },
    {
      "cell_type": "code",
      "metadata": {
        "id": "8NBfONlWn7MA",
        "colab_type": "code",
        "colab": {}
      },
      "source": [
        "df[\"pct_change\"] = (df[\"Adj Close\"] - df.Open)/df.Open*100"
      ],
      "execution_count": 78,
      "outputs": []
    },
    {
      "cell_type": "code",
      "metadata": {
        "id": "QQbVrvzbn9ZM",
        "colab_type": "code",
        "colab": {
          "base_uri": "https://localhost:8080/",
          "height": 238
        },
        "outputId": "bdb160cf-45f1-4773-f5fc-4b2a5533b0b6"
      },
      "source": [
        "df = df[[\"Adj Close\",\"hl_pct\", \"pct_change\", \"Volume\"]]\n",
        "df.head()"
      ],
      "execution_count": 79,
      "outputs": [
        {
          "output_type": "execute_result",
          "data": {
            "text/html": [
              "<div>\n",
              "<style scoped>\n",
              "    .dataframe tbody tr th:only-of-type {\n",
              "        vertical-align: middle;\n",
              "    }\n",
              "\n",
              "    .dataframe tbody tr th {\n",
              "        vertical-align: top;\n",
              "    }\n",
              "\n",
              "    .dataframe thead th {\n",
              "        text-align: right;\n",
              "    }\n",
              "</style>\n",
              "<table border=\"1\" class=\"dataframe\">\n",
              "  <thead>\n",
              "    <tr style=\"text-align: right;\">\n",
              "      <th></th>\n",
              "      <th>Adj Close</th>\n",
              "      <th>hl_pct</th>\n",
              "      <th>pct_change</th>\n",
              "      <th>Volume</th>\n",
              "    </tr>\n",
              "    <tr>\n",
              "      <th>Date</th>\n",
              "      <th></th>\n",
              "      <th></th>\n",
              "      <th></th>\n",
              "      <th></th>\n",
              "    </tr>\n",
              "  </thead>\n",
              "  <tbody>\n",
              "    <tr>\n",
              "      <th>2015-07-08</th>\n",
              "      <td>541.700012</td>\n",
              "      <td>1.308207</td>\n",
              "      <td>-0.714803</td>\n",
              "      <td>1383100</td>\n",
              "    </tr>\n",
              "    <tr>\n",
              "      <th>2015-07-09</th>\n",
              "      <td>544.650024</td>\n",
              "      <td>0.782199</td>\n",
              "      <td>-0.729062</td>\n",
              "      <td>1488300</td>\n",
              "    </tr>\n",
              "    <tr>\n",
              "      <th>2015-07-10</th>\n",
              "      <td>556.109985</td>\n",
              "      <td>1.320648</td>\n",
              "      <td>0.433433</td>\n",
              "      <td>2171800</td>\n",
              "    </tr>\n",
              "    <tr>\n",
              "      <th>2015-07-13</th>\n",
              "      <td>571.729980</td>\n",
              "      <td>2.532659</td>\n",
              "      <td>2.184049</td>\n",
              "      <td>2089600</td>\n",
              "    </tr>\n",
              "    <tr>\n",
              "      <th>2015-07-14</th>\n",
              "      <td>584.179993</td>\n",
              "      <td>2.706522</td>\n",
              "      <td>1.684942</td>\n",
              "      <td>3741600</td>\n",
              "    </tr>\n",
              "  </tbody>\n",
              "</table>\n",
              "</div>"
            ],
            "text/plain": [
              "             Adj Close    hl_pct  pct_change   Volume\n",
              "Date                                                 \n",
              "2015-07-08  541.700012  1.308207   -0.714803  1383100\n",
              "2015-07-09  544.650024  0.782199   -0.729062  1488300\n",
              "2015-07-10  556.109985  1.320648    0.433433  2171800\n",
              "2015-07-13  571.729980  2.532659    2.184049  2089600\n",
              "2015-07-14  584.179993  2.706522    1.684942  3741600"
            ]
          },
          "metadata": {
            "tags": []
          },
          "execution_count": 79
        }
      ]
    },
    {
      "cell_type": "code",
      "metadata": {
        "id": "gl6HAoHIoZ-k",
        "colab_type": "code",
        "colab": {}
      },
      "source": [
        "from sklearn.linear_model import LinearRegression\n",
        "from sklearn.preprocessing import StandardScaler\n",
        "from sklearn.model_selection import train_test_split, cross_val_score\n",
        "from sklearn.svm import SVR\n",
        "import math"
      ],
      "execution_count": 80,
      "outputs": []
    },
    {
      "cell_type": "code",
      "metadata": {
        "id": "swNSrpsSosQS",
        "colab_type": "code",
        "colab": {}
      },
      "source": [
        "forecast_col = \"Adj Close\"\n",
        "df.fillna(value=-99999, inplace=True)\n",
        "forecast_out = int(math.ceil(0.01 * len(df)))"
      ],
      "execution_count": 81,
      "outputs": []
    },
    {
      "cell_type": "code",
      "metadata": {
        "id": "WEBBwAK5pIAl",
        "colab_type": "code",
        "colab": {
          "base_uri": "https://localhost:8080/",
          "height": 35
        },
        "outputId": "e1f6973d-5d3d-484f-e1dd-70adcc2ebe41"
      },
      "source": [
        "forecast_out"
      ],
      "execution_count": 82,
      "outputs": [
        {
          "output_type": "execute_result",
          "data": {
            "text/plain": [
              "13"
            ]
          },
          "metadata": {
            "tags": []
          },
          "execution_count": 82
        }
      ]
    },
    {
      "cell_type": "code",
      "metadata": {
        "id": "aq6wse2DpSaK",
        "colab_type": "code",
        "colab": {}
      },
      "source": [
        "df[\"label\"] = df[forecast_col].shift(-forecast_out)"
      ],
      "execution_count": 83,
      "outputs": []
    },
    {
      "cell_type": "code",
      "metadata": {
        "id": "F_DRGBS_pz0S",
        "colab_type": "code",
        "colab": {
          "base_uri": "https://localhost:8080/",
          "height": 551
        },
        "outputId": "c3f7c6d9-644c-421f-c425-14493ea42fa9"
      },
      "source": [
        "df.head(15)"
      ],
      "execution_count": 84,
      "outputs": [
        {
          "output_type": "execute_result",
          "data": {
            "text/html": [
              "<div>\n",
              "<style scoped>\n",
              "    .dataframe tbody tr th:only-of-type {\n",
              "        vertical-align: middle;\n",
              "    }\n",
              "\n",
              "    .dataframe tbody tr th {\n",
              "        vertical-align: top;\n",
              "    }\n",
              "\n",
              "    .dataframe thead th {\n",
              "        text-align: right;\n",
              "    }\n",
              "</style>\n",
              "<table border=\"1\" class=\"dataframe\">\n",
              "  <thead>\n",
              "    <tr style=\"text-align: right;\">\n",
              "      <th></th>\n",
              "      <th>Adj Close</th>\n",
              "      <th>hl_pct</th>\n",
              "      <th>pct_change</th>\n",
              "      <th>Volume</th>\n",
              "      <th>label</th>\n",
              "    </tr>\n",
              "    <tr>\n",
              "      <th>Date</th>\n",
              "      <th></th>\n",
              "      <th></th>\n",
              "      <th></th>\n",
              "      <th></th>\n",
              "      <th></th>\n",
              "    </tr>\n",
              "  </thead>\n",
              "  <tbody>\n",
              "    <tr>\n",
              "      <th>2015-07-08</th>\n",
              "      <td>541.700012</td>\n",
              "      <td>1.308207</td>\n",
              "      <td>-0.714803</td>\n",
              "      <td>1383100</td>\n",
              "      <td>658.270020</td>\n",
              "    </tr>\n",
              "    <tr>\n",
              "      <th>2015-07-09</th>\n",
              "      <td>544.650024</td>\n",
              "      <td>0.782199</td>\n",
              "      <td>-0.729062</td>\n",
              "      <td>1488300</td>\n",
              "      <td>659.659973</td>\n",
              "    </tr>\n",
              "    <tr>\n",
              "      <th>2015-07-10</th>\n",
              "      <td>556.109985</td>\n",
              "      <td>1.320648</td>\n",
              "      <td>0.433433</td>\n",
              "      <td>2171800</td>\n",
              "      <td>661.429993</td>\n",
              "    </tr>\n",
              "    <tr>\n",
              "      <th>2015-07-13</th>\n",
              "      <td>571.729980</td>\n",
              "      <td>2.532659</td>\n",
              "      <td>2.184049</td>\n",
              "      <td>2089600</td>\n",
              "      <td>664.559998</td>\n",
              "    </tr>\n",
              "    <tr>\n",
              "      <th>2015-07-14</th>\n",
              "      <td>584.179993</td>\n",
              "      <td>2.706522</td>\n",
              "      <td>1.684942</td>\n",
              "      <td>3741600</td>\n",
              "      <td>657.500000</td>\n",
              "    </tr>\n",
              "    <tr>\n",
              "      <th>2015-07-15</th>\n",
              "      <td>583.960022</td>\n",
              "      <td>1.461536</td>\n",
              "      <td>0.037693</td>\n",
              "      <td>2073300</td>\n",
              "      <td>664.719971</td>\n",
              "    </tr>\n",
              "    <tr>\n",
              "      <th>2015-07-16</th>\n",
              "      <td>601.780029</td>\n",
              "      <td>2.820115</td>\n",
              "      <td>2.083126</td>\n",
              "      <td>5632100</td>\n",
              "      <td>661.280029</td>\n",
              "    </tr>\n",
              "    <tr>\n",
              "      <th>2015-07-17</th>\n",
              "      <td>699.619995</td>\n",
              "      <td>3.687316</td>\n",
              "      <td>2.885293</td>\n",
              "      <td>12858100</td>\n",
              "      <td>673.289978</td>\n",
              "    </tr>\n",
              "    <tr>\n",
              "      <th>2015-07-20</th>\n",
              "      <td>692.840027</td>\n",
              "      <td>2.351228</td>\n",
              "      <td>0.560255</td>\n",
              "      <td>5121800</td>\n",
              "      <td>670.150024</td>\n",
              "    </tr>\n",
              "    <tr>\n",
              "      <th>2015-07-21</th>\n",
              "      <td>695.349976</td>\n",
              "      <td>3.135270</td>\n",
              "      <td>1.528731</td>\n",
              "      <td>3780200</td>\n",
              "      <td>664.390015</td>\n",
              "    </tr>\n",
              "    <tr>\n",
              "      <th>2015-07-22</th>\n",
              "      <td>695.099976</td>\n",
              "      <td>3.139010</td>\n",
              "      <td>0.155609</td>\n",
              "      <td>4155000</td>\n",
              "      <td>663.140015</td>\n",
              "    </tr>\n",
              "    <tr>\n",
              "      <th>2015-07-23</th>\n",
              "      <td>674.729980</td>\n",
              "      <td>3.645078</td>\n",
              "      <td>-2.474524</td>\n",
              "      <td>3811600</td>\n",
              "      <td>690.299988</td>\n",
              "    </tr>\n",
              "    <tr>\n",
              "      <th>2015-07-24</th>\n",
              "      <td>654.770020</td>\n",
              "      <td>3.767719</td>\n",
              "      <td>-3.250735</td>\n",
              "      <td>4131100</td>\n",
              "      <td>691.469971</td>\n",
              "    </tr>\n",
              "    <tr>\n",
              "      <th>2015-07-27</th>\n",
              "      <td>658.270020</td>\n",
              "      <td>2.382015</td>\n",
              "      <td>1.028287</td>\n",
              "      <td>2919100</td>\n",
              "      <td>686.510010</td>\n",
              "    </tr>\n",
              "    <tr>\n",
              "      <th>2015-07-28</th>\n",
              "      <td>659.659973</td>\n",
              "      <td>1.636033</td>\n",
              "      <td>-0.317341</td>\n",
              "      <td>1718200</td>\n",
              "      <td>689.369995</td>\n",
              "    </tr>\n",
              "  </tbody>\n",
              "</table>\n",
              "</div>"
            ],
            "text/plain": [
              "             Adj Close    hl_pct  pct_change    Volume       label\n",
              "Date                                                              \n",
              "2015-07-08  541.700012  1.308207   -0.714803   1383100  658.270020\n",
              "2015-07-09  544.650024  0.782199   -0.729062   1488300  659.659973\n",
              "2015-07-10  556.109985  1.320648    0.433433   2171800  661.429993\n",
              "2015-07-13  571.729980  2.532659    2.184049   2089600  664.559998\n",
              "2015-07-14  584.179993  2.706522    1.684942   3741600  657.500000\n",
              "2015-07-15  583.960022  1.461536    0.037693   2073300  664.719971\n",
              "2015-07-16  601.780029  2.820115    2.083126   5632100  661.280029\n",
              "2015-07-17  699.619995  3.687316    2.885293  12858100  673.289978\n",
              "2015-07-20  692.840027  2.351228    0.560255   5121800  670.150024\n",
              "2015-07-21  695.349976  3.135270    1.528731   3780200  664.390015\n",
              "2015-07-22  695.099976  3.139010    0.155609   4155000  663.140015\n",
              "2015-07-23  674.729980  3.645078   -2.474524   3811600  690.299988\n",
              "2015-07-24  654.770020  3.767719   -3.250735   4131100  691.469971\n",
              "2015-07-27  658.270020  2.382015    1.028287   2919100  686.510010\n",
              "2015-07-28  659.659973  1.636033   -0.317341   1718200  689.369995"
            ]
          },
          "metadata": {
            "tags": []
          },
          "execution_count": 84
        }
      ]
    },
    {
      "cell_type": "code",
      "metadata": {
        "id": "EwTPwnkRqJr6",
        "colab_type": "code",
        "colab": {}
      },
      "source": [
        "features = df.drop([\"label\"], axis = 1)\n",
        "scaler = StandardScaler()\n",
        "features = scaler.fit_transform(features)\n",
        "features_lately = features[-forecast_out:]\n",
        "features = features[:-forecast_out]\n",
        "\n",
        "df.dropna(inplace=True)\n",
        "target = df.label"
      ],
      "execution_count": 85,
      "outputs": []
    },
    {
      "cell_type": "code",
      "metadata": {
        "id": "q9H1sXjTqZMe",
        "colab_type": "code",
        "colab": {
          "base_uri": "https://localhost:8080/",
          "height": 54
        },
        "outputId": "6eb84e35-bdfe-456a-a727-fe99a2bc7ea3"
      },
      "source": [
        "print(\"features: \", features.shape)\n",
        "print(\"target: \", target.shape)"
      ],
      "execution_count": 86,
      "outputs": [
        {
          "output_type": "stream",
          "text": [
            "features:  (1244, 4)\n",
            "target:  (1244,)\n"
          ],
          "name": "stdout"
        }
      ]
    },
    {
      "cell_type": "code",
      "metadata": {
        "id": "LODK-S3Nq4hM",
        "colab_type": "code",
        "colab": {}
      },
      "source": [
        "train_features, test_features, train_target, test_target = train_test_split(features, target, test_size = 0.2)"
      ],
      "execution_count": 87,
      "outputs": []
    },
    {
      "cell_type": "code",
      "metadata": {
        "id": "nwcPRcmoq_yi",
        "colab_type": "code",
        "colab": {
          "base_uri": "https://localhost:8080/",
          "height": 90
        },
        "outputId": "c6790cc3-df73-49d7-9b9f-cc1e23fcfd2a"
      },
      "source": [
        "print(\"train_features: \", train_features.shape)\n",
        "print(\"test_features: \", test_features.shape)\n",
        "print(\"train_target: \", train_target.shape)\n",
        "print(\"test_target: \", test_target.shape)"
      ],
      "execution_count": 88,
      "outputs": [
        {
          "output_type": "stream",
          "text": [
            "train_features:  (995, 4)\n",
            "test_features:  (249, 4)\n",
            "train_target:  (995,)\n",
            "test_target:  (249,)\n"
          ],
          "name": "stdout"
        }
      ]
    },
    {
      "cell_type": "code",
      "metadata": {
        "id": "09pxr9vFroFT",
        "colab_type": "code",
        "colab": {}
      },
      "source": [
        "model = SVR()\n",
        "model.fit(train_features, train_target)\n",
        "score = model.score(test_features, test_target)"
      ],
      "execution_count": 89,
      "outputs": []
    },
    {
      "cell_type": "code",
      "metadata": {
        "id": "55uuEGWns-Zg",
        "colab_type": "code",
        "colab": {
          "base_uri": "https://localhost:8080/",
          "height": 35
        },
        "outputId": "cf692bab-350a-4563-d4bd-fcdaf1bde5e3"
      },
      "source": [
        "score"
      ],
      "execution_count": 90,
      "outputs": [
        {
          "output_type": "execute_result",
          "data": {
            "text/plain": [
              "0.6072723034991604"
            ]
          },
          "metadata": {
            "tags": []
          },
          "execution_count": 90
        }
      ]
    },
    {
      "cell_type": "code",
      "metadata": {
        "id": "yZgI5EfQs_Rw",
        "colab_type": "code",
        "colab": {}
      },
      "source": [
        "linreg = LinearRegression()\n",
        "linreg.fit(train_features, train_target)\n",
        "lin_score = linreg.score(test_features, test_target)"
      ],
      "execution_count": 91,
      "outputs": []
    },
    {
      "cell_type": "code",
      "metadata": {
        "id": "SFWNEHjjtdYO",
        "colab_type": "code",
        "colab": {
          "base_uri": "https://localhost:8080/",
          "height": 35
        },
        "outputId": "a1db83f8-60c5-4b93-f25b-50310bdbae4c"
      },
      "source": [
        "lin_score"
      ],
      "execution_count": 92,
      "outputs": [
        {
          "output_type": "execute_result",
          "data": {
            "text/plain": [
              "0.9451538499675711"
            ]
          },
          "metadata": {
            "tags": []
          },
          "execution_count": 92
        }
      ]
    },
    {
      "cell_type": "code",
      "metadata": {
        "id": "DCI1MgLutem4",
        "colab_type": "code",
        "colab": {
          "base_uri": "https://localhost:8080/",
          "height": 90
        },
        "outputId": "29a979aa-1489-4116-aac3-000138e621ce"
      },
      "source": [
        "# testing different kernels for svr\n",
        "for k in [\"linear\", \"poly\", \"rbf\",\"sigmoid\"]:\n",
        "  clf = SVR(kernel = k)\n",
        "  clf.fit(train_features, train_target)\n",
        "  score = clf.score(test_features, test_target)\n",
        "  print(k, score)"
      ],
      "execution_count": 93,
      "outputs": [
        {
          "output_type": "stream",
          "text": [
            "linear 0.9441478219190593\n",
            "poly 0.38956090355363077\n",
            "rbf 0.6072723034991604\n",
            "sigmoid 0.8431791729481678\n"
          ],
          "name": "stdout"
        }
      ]
    },
    {
      "cell_type": "code",
      "metadata": {
        "id": "ZC36hs6zt9EC",
        "colab_type": "code",
        "colab": {
          "base_uri": "https://localhost:8080/",
          "height": 72
        },
        "outputId": "69e62408-3a45-4c3b-a02c-e92e2f52ac14"
      },
      "source": [
        "forecast_set = model.predict(features_lately)\n",
        "print(forecast_set, score, forecast_out)"
      ],
      "execution_count": 94,
      "outputs": [
        {
          "output_type": "stream",
          "text": [
            "[1171.41262672 1172.98373102 1151.23728958 1120.48535499 1127.63481624\n",
            " 1154.79172422 1087.81357476 1170.23962317 1028.64618537 1073.8980846\n",
            " 1126.08711017 1124.77443394 1100.08258011] 0.8431791729481678 13\n"
          ],
          "name": "stdout"
        }
      ]
    },
    {
      "cell_type": "code",
      "metadata": {
        "id": "54yh77vXzBXw",
        "colab_type": "code",
        "colab": {}
      },
      "source": [
        "df[\"forecast\"] = np.nan"
      ],
      "execution_count": 95,
      "outputs": []
    },
    {
      "cell_type": "code",
      "metadata": {
        "id": "_XPejdfL04Hn",
        "colab_type": "code",
        "colab": {
          "base_uri": "https://localhost:8080/",
          "height": 238
        },
        "outputId": "492411cf-7960-4ad7-a6b3-c756cd28e327"
      },
      "source": [
        "df.head()"
      ],
      "execution_count": 96,
      "outputs": [
        {
          "output_type": "execute_result",
          "data": {
            "text/html": [
              "<div>\n",
              "<style scoped>\n",
              "    .dataframe tbody tr th:only-of-type {\n",
              "        vertical-align: middle;\n",
              "    }\n",
              "\n",
              "    .dataframe tbody tr th {\n",
              "        vertical-align: top;\n",
              "    }\n",
              "\n",
              "    .dataframe thead th {\n",
              "        text-align: right;\n",
              "    }\n",
              "</style>\n",
              "<table border=\"1\" class=\"dataframe\">\n",
              "  <thead>\n",
              "    <tr style=\"text-align: right;\">\n",
              "      <th></th>\n",
              "      <th>Adj Close</th>\n",
              "      <th>hl_pct</th>\n",
              "      <th>pct_change</th>\n",
              "      <th>Volume</th>\n",
              "      <th>label</th>\n",
              "      <th>forecast</th>\n",
              "    </tr>\n",
              "    <tr>\n",
              "      <th>Date</th>\n",
              "      <th></th>\n",
              "      <th></th>\n",
              "      <th></th>\n",
              "      <th></th>\n",
              "      <th></th>\n",
              "      <th></th>\n",
              "    </tr>\n",
              "  </thead>\n",
              "  <tbody>\n",
              "    <tr>\n",
              "      <th>2015-07-08</th>\n",
              "      <td>541.700012</td>\n",
              "      <td>1.308207</td>\n",
              "      <td>-0.714803</td>\n",
              "      <td>1383100</td>\n",
              "      <td>658.270020</td>\n",
              "      <td>NaN</td>\n",
              "    </tr>\n",
              "    <tr>\n",
              "      <th>2015-07-09</th>\n",
              "      <td>544.650024</td>\n",
              "      <td>0.782199</td>\n",
              "      <td>-0.729062</td>\n",
              "      <td>1488300</td>\n",
              "      <td>659.659973</td>\n",
              "      <td>NaN</td>\n",
              "    </tr>\n",
              "    <tr>\n",
              "      <th>2015-07-10</th>\n",
              "      <td>556.109985</td>\n",
              "      <td>1.320648</td>\n",
              "      <td>0.433433</td>\n",
              "      <td>2171800</td>\n",
              "      <td>661.429993</td>\n",
              "      <td>NaN</td>\n",
              "    </tr>\n",
              "    <tr>\n",
              "      <th>2015-07-13</th>\n",
              "      <td>571.729980</td>\n",
              "      <td>2.532659</td>\n",
              "      <td>2.184049</td>\n",
              "      <td>2089600</td>\n",
              "      <td>664.559998</td>\n",
              "      <td>NaN</td>\n",
              "    </tr>\n",
              "    <tr>\n",
              "      <th>2015-07-14</th>\n",
              "      <td>584.179993</td>\n",
              "      <td>2.706522</td>\n",
              "      <td>1.684942</td>\n",
              "      <td>3741600</td>\n",
              "      <td>657.500000</td>\n",
              "      <td>NaN</td>\n",
              "    </tr>\n",
              "  </tbody>\n",
              "</table>\n",
              "</div>"
            ],
            "text/plain": [
              "             Adj Close    hl_pct  pct_change   Volume       label  forecast\n",
              "Date                                                                       \n",
              "2015-07-08  541.700012  1.308207   -0.714803  1383100  658.270020       NaN\n",
              "2015-07-09  544.650024  0.782199   -0.729062  1488300  659.659973       NaN\n",
              "2015-07-10  556.109985  1.320648    0.433433  2171800  661.429993       NaN\n",
              "2015-07-13  571.729980  2.532659    2.184049  2089600  664.559998       NaN\n",
              "2015-07-14  584.179993  2.706522    1.684942  3741600  657.500000       NaN"
            ]
          },
          "metadata": {
            "tags": []
          },
          "execution_count": 96
        }
      ]
    },
    {
      "cell_type": "code",
      "metadata": {
        "id": "e9ukZs0Q05E3",
        "colab_type": "code",
        "colab": {}
      },
      "source": [
        "last_day = df.iloc[-1].name\n",
        "last_unix = last_day.timestamp()\n",
        "one_day = 86400\n",
        "next_unix = last_unix + one_day"
      ],
      "execution_count": 97,
      "outputs": []
    },
    {
      "cell_type": "code",
      "metadata": {
        "id": "0G5VBGUUDLTc",
        "colab_type": "code",
        "colab": {}
      },
      "source": [
        "for i in forecast_set:\n",
        "  next_date = dt.datetime.fromtimestamp(next_unix)\n",
        "  next_unix += one_day\n",
        "  df.loc[next_date] = [np.nan for _ in range(len(df.columns)-1)]+[i]"
      ],
      "execution_count": 98,
      "outputs": []
    },
    {
      "cell_type": "code",
      "metadata": {
        "id": "ifvUIu4QDMYq",
        "colab_type": "code",
        "colab": {
          "base_uri": "https://localhost:8080/",
          "height": 238
        },
        "outputId": "d17e39a6-42f6-47e5-e88f-40f967838275"
      },
      "source": [
        "df.tail()"
      ],
      "execution_count": 99,
      "outputs": [
        {
          "output_type": "execute_result",
          "data": {
            "text/html": [
              "<div>\n",
              "<style scoped>\n",
              "    .dataframe tbody tr th:only-of-type {\n",
              "        vertical-align: middle;\n",
              "    }\n",
              "\n",
              "    .dataframe tbody tr th {\n",
              "        vertical-align: top;\n",
              "    }\n",
              "\n",
              "    .dataframe thead th {\n",
              "        text-align: right;\n",
              "    }\n",
              "</style>\n",
              "<table border=\"1\" class=\"dataframe\">\n",
              "  <thead>\n",
              "    <tr style=\"text-align: right;\">\n",
              "      <th></th>\n",
              "      <th>Adj Close</th>\n",
              "      <th>hl_pct</th>\n",
              "      <th>pct_change</th>\n",
              "      <th>Volume</th>\n",
              "      <th>label</th>\n",
              "      <th>forecast</th>\n",
              "    </tr>\n",
              "    <tr>\n",
              "      <th>Date</th>\n",
              "      <th></th>\n",
              "      <th></th>\n",
              "      <th></th>\n",
              "      <th></th>\n",
              "      <th></th>\n",
              "      <th></th>\n",
              "    </tr>\n",
              "  </thead>\n",
              "  <tbody>\n",
              "    <tr>\n",
              "      <th>2020-06-24</th>\n",
              "      <td>NaN</td>\n",
              "      <td>NaN</td>\n",
              "      <td>NaN</td>\n",
              "      <td>NaN</td>\n",
              "      <td>NaN</td>\n",
              "      <td>1028.646185</td>\n",
              "    </tr>\n",
              "    <tr>\n",
              "      <th>2020-06-25</th>\n",
              "      <td>NaN</td>\n",
              "      <td>NaN</td>\n",
              "      <td>NaN</td>\n",
              "      <td>NaN</td>\n",
              "      <td>NaN</td>\n",
              "      <td>1073.898085</td>\n",
              "    </tr>\n",
              "    <tr>\n",
              "      <th>2020-06-26</th>\n",
              "      <td>NaN</td>\n",
              "      <td>NaN</td>\n",
              "      <td>NaN</td>\n",
              "      <td>NaN</td>\n",
              "      <td>NaN</td>\n",
              "      <td>1126.087110</td>\n",
              "    </tr>\n",
              "    <tr>\n",
              "      <th>2020-06-27</th>\n",
              "      <td>NaN</td>\n",
              "      <td>NaN</td>\n",
              "      <td>NaN</td>\n",
              "      <td>NaN</td>\n",
              "      <td>NaN</td>\n",
              "      <td>1124.774434</td>\n",
              "    </tr>\n",
              "    <tr>\n",
              "      <th>2020-06-28</th>\n",
              "      <td>NaN</td>\n",
              "      <td>NaN</td>\n",
              "      <td>NaN</td>\n",
              "      <td>NaN</td>\n",
              "      <td>NaN</td>\n",
              "      <td>1100.082580</td>\n",
              "    </tr>\n",
              "  </tbody>\n",
              "</table>\n",
              "</div>"
            ],
            "text/plain": [
              "            Adj Close  hl_pct  pct_change  Volume  label     forecast\n",
              "Date                                                                 \n",
              "2020-06-24        NaN     NaN         NaN     NaN    NaN  1028.646185\n",
              "2020-06-25        NaN     NaN         NaN     NaN    NaN  1073.898085\n",
              "2020-06-26        NaN     NaN         NaN     NaN    NaN  1126.087110\n",
              "2020-06-27        NaN     NaN         NaN     NaN    NaN  1124.774434\n",
              "2020-06-28        NaN     NaN         NaN     NaN    NaN  1100.082580"
            ]
          },
          "metadata": {
            "tags": []
          },
          "execution_count": 99
        }
      ]
    },
    {
      "cell_type": "code",
      "metadata": {
        "id": "ZA-ezJRSEtvW",
        "colab_type": "code",
        "colab": {
          "base_uri": "https://localhost:8080/",
          "height": 272
        },
        "outputId": "fd671f67-6bec-4ae2-e602-8e700fbcc334"
      },
      "source": [
        "df.forecast.plot()\n",
        "df[\"Adj Close\"].plot()\n",
        "plt.xlabel(\"Date\")\n",
        "plt.ylabel(\"Price\")\n",
        "plt.legend()\n",
        "plt.show()"
      ],
      "execution_count": 100,
      "outputs": [
        {
          "output_type": "display_data",
          "data": {
            "image/png": "[encoded data removed]",
            "text/plain": [
              "<Figure size 432x288 with 1 Axes>"
            ]
          },
          "metadata": {
            "tags": []
          }
        }
      ]
    },
    {
      "cell_type": "code",
      "metadata": {
        "id": "H9l-F-INGGww",
        "colab_type": "code",
        "colab": {}
      },
      "source": [
        ""
      ],
      "execution_count": 100,
      "outputs": []
    }
  ]
}