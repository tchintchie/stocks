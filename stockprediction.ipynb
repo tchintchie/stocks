{
  "nbformat": 4,
  "nbformat_minor": 0,
  "metadata": {
    "colab": {
      "name": "Untitled1.ipynb",
      "provenance": [],
      "authorship_tag": "ABX9TyOlw9a53fZ+q9uLBR85YdIg",
      "include_colab_link": true
    },
    "kernelspec": {
      "name": "python3",
      "display_name": "Python 3"
    }
  },
  "cells": [
    {
      "cell_type": "markdown",
      "metadata": {
        "id": "view-in-github",
        "colab_type": "text"
      },
      "source": [
        "<a href=\"https://colab.research.google.com/github/tchintchie/stocks/blob/master/stockprediction.ipynb\" target=\"_parent\"><img src=\"https://colab.research.google.com/assets/colab-badge.svg\" alt=\"Open In Colab\"/></a>"
      ]
    },
    {
      "cell_type": "code",
      "metadata": {
        "id": "Eo0gqUuZV-4m",
        "colab_type": "code",
        "colab": {
          "base_uri": "https://localhost:8080/",
          "height": 71
        },
        "outputId": "d56e0a27-087b-4bbc-d866-28307ef53ac0"
      },
      "source": [
        "import numpy as np\n",
        "import matplotlib.pyplot as plt\n",
        "import pandas as pd\n",
        "import pandas_datareader as web"
      ],
      "execution_count": 1,
      "outputs": [
        {
          "output_type": "stream",
          "text": [
            "/usr/local/lib/python3.6/dist-packages/pandas_datareader/compat/__init__.py:7: FutureWarning: pandas.util.testing is deprecated. Use the functions in the public API at pandas.testing instead.\n",
            "  from pandas.util.testing import assert_frame_equal\n"
          ],
          "name": "stderr"
        }
      ]
    },
    {
      "cell_type": "code",
      "metadata": {
        "id": "kfkP6GoZGQPs",
        "colab_type": "code",
        "colab": {}
      },
      "source": [
        "df = web.get_data_yahoo(\"TSLA\")"
      ],
      "execution_count": 2,
      "outputs": []
    },
    {
      "cell_type": "code",
      "metadata": {
        "id": "6-Y8Ik0AJSF6",
        "colab_type": "code",
        "colab": {
          "base_uri": "https://localhost:8080/",
          "height": 235
        },
        "outputId": "60b37b5a-3ab9-432f-e50f-94d77149cc32"
      },
      "source": [
        "df.head()"
      ],
      "execution_count": 3,
      "outputs": [
        {
          "output_type": "execute_result",
          "data": {
            "text/html": [
              "<div>\n",
              "<style scoped>\n",
              "    .dataframe tbody tr th:only-of-type {\n",
              "        vertical-align: middle;\n",
              "    }\n",
              "\n",
              "    .dataframe tbody tr th {\n",
              "        vertical-align: top;\n",
              "    }\n",
              "\n",
              "    .dataframe thead th {\n",
              "        text-align: right;\n",
              "    }\n",
              "</style>\n",
              "<table border=\"1\" class=\"dataframe\">\n",
              "  <thead>\n",
              "    <tr style=\"text-align: right;\">\n",
              "      <th></th>\n",
              "      <th>High</th>\n",
              "      <th>Low</th>\n",
              "      <th>Open</th>\n",
              "      <th>Close</th>\n",
              "      <th>Volume</th>\n",
              "      <th>Adj Close</th>\n",
              "    </tr>\n",
              "    <tr>\n",
              "      <th>Date</th>\n",
              "      <th></th>\n",
              "      <th></th>\n",
              "      <th></th>\n",
              "      <th></th>\n",
              "      <th></th>\n",
              "      <th></th>\n",
              "    </tr>\n",
              "  </thead>\n",
              "  <tbody>\n",
              "    <tr>\n",
              "      <th>2015-07-07</th>\n",
              "      <td>275.200012</td>\n",
              "      <td>260.769989</td>\n",
              "      <td>275.000000</td>\n",
              "      <td>267.880005</td>\n",
              "      <td>6105100</td>\n",
              "      <td>267.880005</td>\n",
              "    </tr>\n",
              "    <tr>\n",
              "      <th>2015-07-08</th>\n",
              "      <td>260.799988</td>\n",
              "      <td>254.309998</td>\n",
              "      <td>259.320007</td>\n",
              "      <td>254.960007</td>\n",
              "      <td>6221100</td>\n",
              "      <td>254.960007</td>\n",
              "    </tr>\n",
              "    <tr>\n",
              "      <th>2015-07-09</th>\n",
              "      <td>262.950012</td>\n",
              "      <td>256.790009</td>\n",
              "      <td>259.079987</td>\n",
              "      <td>257.920013</td>\n",
              "      <td>3334100</td>\n",
              "      <td>257.920013</td>\n",
              "    </tr>\n",
              "    <tr>\n",
              "      <th>2015-07-10</th>\n",
              "      <td>263.000000</td>\n",
              "      <td>257.820007</td>\n",
              "      <td>262.220001</td>\n",
              "      <td>259.149994</td>\n",
              "      <td>2610900</td>\n",
              "      <td>259.149994</td>\n",
              "    </tr>\n",
              "    <tr>\n",
              "      <th>2015-07-13</th>\n",
              "      <td>262.549988</td>\n",
              "      <td>256.049988</td>\n",
              "      <td>262.250000</td>\n",
              "      <td>262.160004</td>\n",
              "      <td>2960300</td>\n",
              "      <td>262.160004</td>\n",
              "    </tr>\n",
              "  </tbody>\n",
              "</table>\n",
              "</div>"
            ],
            "text/plain": [
              "                  High         Low        Open       Close   Volume   Adj Close\n",
              "Date                                                                           \n",
              "2015-07-07  275.200012  260.769989  275.000000  267.880005  6105100  267.880005\n",
              "2015-07-08  260.799988  254.309998  259.320007  254.960007  6221100  254.960007\n",
              "2015-07-09  262.950012  256.790009  259.079987  257.920013  3334100  257.920013\n",
              "2015-07-10  263.000000  257.820007  262.220001  259.149994  2610900  259.149994\n",
              "2015-07-13  262.549988  256.049988  262.250000  262.160004  2960300  262.160004"
            ]
          },
          "metadata": {
            "tags": []
          },
          "execution_count": 3
        }
      ]
    },
    {
      "cell_type": "code",
      "metadata": {
        "id": "sxivWwHZJTkT",
        "colab_type": "code",
        "colab": {}
      },
      "source": [
        "df[\"hl_pct\"] = (df.High - df.Low)/df.Low*100"
      ],
      "execution_count": 5,
      "outputs": []
    },
    {
      "cell_type": "code",
      "metadata": {
        "id": "8NBfONlWn7MA",
        "colab_type": "code",
        "colab": {}
      },
      "source": [
        "df[\"pct_change\"] = (df[\"Adj Close\"] - df.Open)/df.Open*100"
      ],
      "execution_count": 7,
      "outputs": []
    },
    {
      "cell_type": "code",
      "metadata": {
        "id": "QQbVrvzbn9ZM",
        "colab_type": "code",
        "colab": {
          "base_uri": "https://localhost:8080/",
          "height": 235
        },
        "outputId": "c3e9b32e-4938-49a9-f4d4-9d5cc09b42b3"
      },
      "source": [
        "df = df[[\"Adj Close\",\"hl_pct\", \"pct_change\", \"Volume\"]]\n",
        "df.head()"
      ],
      "execution_count": 8,
      "outputs": [
        {
          "output_type": "execute_result",
          "data": {
            "text/html": [
              "<div>\n",
              "<style scoped>\n",
              "    .dataframe tbody tr th:only-of-type {\n",
              "        vertical-align: middle;\n",
              "    }\n",
              "\n",
              "    .dataframe tbody tr th {\n",
              "        vertical-align: top;\n",
              "    }\n",
              "\n",
              "    .dataframe thead th {\n",
              "        text-align: right;\n",
              "    }\n",
              "</style>\n",
              "<table border=\"1\" class=\"dataframe\">\n",
              "  <thead>\n",
              "    <tr style=\"text-align: right;\">\n",
              "      <th></th>\n",
              "      <th>Adj Close</th>\n",
              "      <th>hl_pct</th>\n",
              "      <th>pct_change</th>\n",
              "      <th>Volume</th>\n",
              "    </tr>\n",
              "    <tr>\n",
              "      <th>Date</th>\n",
              "      <th></th>\n",
              "      <th></th>\n",
              "      <th></th>\n",
              "      <th></th>\n",
              "    </tr>\n",
              "  </thead>\n",
              "  <tbody>\n",
              "    <tr>\n",
              "      <th>2015-07-07</th>\n",
              "      <td>267.880005</td>\n",
              "      <td>5.533621</td>\n",
              "      <td>-2.589089</td>\n",
              "      <td>6105100</td>\n",
              "    </tr>\n",
              "    <tr>\n",
              "      <th>2015-07-08</th>\n",
              "      <td>254.960007</td>\n",
              "      <td>2.552000</td>\n",
              "      <td>-1.681321</td>\n",
              "      <td>6221100</td>\n",
              "    </tr>\n",
              "    <tr>\n",
              "      <th>2015-07-09</th>\n",
              "      <td>257.920013</td>\n",
              "      <td>2.398849</td>\n",
              "      <td>-0.447728</td>\n",
              "      <td>3334100</td>\n",
              "    </tr>\n",
              "    <tr>\n",
              "      <th>2015-07-10</th>\n",
              "      <td>259.149994</td>\n",
              "      <td>2.009151</td>\n",
              "      <td>-1.170775</td>\n",
              "      <td>2610900</td>\n",
              "    </tr>\n",
              "    <tr>\n",
              "      <th>2015-07-13</th>\n",
              "      <td>262.160004</td>\n",
              "      <td>2.538567</td>\n",
              "      <td>-0.034317</td>\n",
              "      <td>2960300</td>\n",
              "    </tr>\n",
              "  </tbody>\n",
              "</table>\n",
              "</div>"
            ],
            "text/plain": [
              "             Adj Close    hl_pct  pct_change   Volume\n",
              "Date                                                 \n",
              "2015-07-07  267.880005  5.533621   -2.589089  6105100\n",
              "2015-07-08  254.960007  2.552000   -1.681321  6221100\n",
              "2015-07-09  257.920013  2.398849   -0.447728  3334100\n",
              "2015-07-10  259.149994  2.009151   -1.170775  2610900\n",
              "2015-07-13  262.160004  2.538567   -0.034317  2960300"
            ]
          },
          "metadata": {
            "tags": []
          },
          "execution_count": 8
        }
      ]
    },
    {
      "cell_type": "code",
      "metadata": {
        "id": "gl6HAoHIoZ-k",
        "colab_type": "code",
        "colab": {}
      },
      "source": [
        "from sklearn.linear_model import LinearRegression\n",
        "from sklearn.preprocessing import StandardScaler\n",
        "from sklearn.model_selection import train_test_split, cross_val_score\n",
        "from sklearn.svm import SVR\n",
        "import math"
      ],
      "execution_count": 31,
      "outputs": []
    },
    {
      "cell_type": "code",
      "metadata": {
        "id": "swNSrpsSosQS",
        "colab_type": "code",
        "colab": {}
      },
      "source": [
        "forecast_col = \"Adj Close\"\n",
        "df.fillna(value=-99999, inplace=True)\n",
        "forecast_out = int(math.ceil(0.01 * len(df)))"
      ],
      "execution_count": 13,
      "outputs": []
    },
    {
      "cell_type": "code",
      "metadata": {
        "id": "WEBBwAK5pIAl",
        "colab_type": "code",
        "colab": {
          "base_uri": "https://localhost:8080/",
          "height": 34
        },
        "outputId": "00b9ce61-1a1b-47a0-8ae4-53f1b8e10dcc"
      },
      "source": [
        "forecast_out"
      ],
      "execution_count": 14,
      "outputs": [
        {
          "output_type": "execute_result",
          "data": {
            "text/plain": [
              "13"
            ]
          },
          "metadata": {
            "tags": []
          },
          "execution_count": 14
        }
      ]
    },
    {
      "cell_type": "code",
      "metadata": {
        "id": "aq6wse2DpSaK",
        "colab_type": "code",
        "colab": {}
      },
      "source": [
        "df[\"label\"] = df[forecast_col].shift(-forecast_out)"
      ],
      "execution_count": 15,
      "outputs": []
    },
    {
      "cell_type": "code",
      "metadata": {
        "id": "F_DRGBS_pz0S",
        "colab_type": "code",
        "colab": {
          "base_uri": "https://localhost:8080/",
          "height": 545
        },
        "outputId": "9fe41dd8-fa4f-4c71-b92d-934a8d4a9c66"
      },
      "source": [
        "df.head(15)"
      ],
      "execution_count": 17,
      "outputs": [
        {
          "output_type": "execute_result",
          "data": {
            "text/html": [
              "<div>\n",
              "<style scoped>\n",
              "    .dataframe tbody tr th:only-of-type {\n",
              "        vertical-align: middle;\n",
              "    }\n",
              "\n",
              "    .dataframe tbody tr th {\n",
              "        vertical-align: top;\n",
              "    }\n",
              "\n",
              "    .dataframe thead th {\n",
              "        text-align: right;\n",
              "    }\n",
              "</style>\n",
              "<table border=\"1\" class=\"dataframe\">\n",
              "  <thead>\n",
              "    <tr style=\"text-align: right;\">\n",
              "      <th></th>\n",
              "      <th>Adj Close</th>\n",
              "      <th>hl_pct</th>\n",
              "      <th>pct_change</th>\n",
              "      <th>Volume</th>\n",
              "      <th>label</th>\n",
              "    </tr>\n",
              "    <tr>\n",
              "      <th>Date</th>\n",
              "      <th></th>\n",
              "      <th></th>\n",
              "      <th></th>\n",
              "      <th></th>\n",
              "      <th></th>\n",
              "    </tr>\n",
              "  </thead>\n",
              "  <tbody>\n",
              "    <tr>\n",
              "      <th>2015-07-07</th>\n",
              "      <td>267.880005</td>\n",
              "      <td>5.533621</td>\n",
              "      <td>-2.589089</td>\n",
              "      <td>6105100</td>\n",
              "      <td>265.410004</td>\n",
              "    </tr>\n",
              "    <tr>\n",
              "      <th>2015-07-08</th>\n",
              "      <td>254.960007</td>\n",
              "      <td>2.552000</td>\n",
              "      <td>-1.681321</td>\n",
              "      <td>6221100</td>\n",
              "      <td>253.009995</td>\n",
              "    </tr>\n",
              "    <tr>\n",
              "      <th>2015-07-09</th>\n",
              "      <td>257.920013</td>\n",
              "      <td>2.398849</td>\n",
              "      <td>-0.447728</td>\n",
              "      <td>3334100</td>\n",
              "      <td>264.820007</td>\n",
              "    </tr>\n",
              "    <tr>\n",
              "      <th>2015-07-10</th>\n",
              "      <td>259.149994</td>\n",
              "      <td>2.009151</td>\n",
              "      <td>-1.170775</td>\n",
              "      <td>2610900</td>\n",
              "      <td>263.820007</td>\n",
              "    </tr>\n",
              "    <tr>\n",
              "      <th>2015-07-13</th>\n",
              "      <td>262.160004</td>\n",
              "      <td>2.538567</td>\n",
              "      <td>-0.034317</td>\n",
              "      <td>2960300</td>\n",
              "      <td>266.790009</td>\n",
              "    </tr>\n",
              "    <tr>\n",
              "      <th>2015-07-14</th>\n",
              "      <td>265.649994</td>\n",
              "      <td>2.103559</td>\n",
              "      <td>1.354440</td>\n",
              "      <td>1907600</td>\n",
              "      <td>266.149994</td>\n",
              "    </tr>\n",
              "    <tr>\n",
              "      <th>2015-07-15</th>\n",
              "      <td>263.140015</td>\n",
              "      <td>2.064257</td>\n",
              "      <td>-1.349620</td>\n",
              "      <td>2021600</td>\n",
              "      <td>259.989990</td>\n",
              "    </tr>\n",
              "    <tr>\n",
              "      <th>2015-07-16</th>\n",
              "      <td>266.679993</td>\n",
              "      <td>1.535191</td>\n",
              "      <td>0.931039</td>\n",
              "      <td>1616000</td>\n",
              "      <td>266.279999</td>\n",
              "    </tr>\n",
              "    <tr>\n",
              "      <th>2015-07-17</th>\n",
              "      <td>274.660004</td>\n",
              "      <td>2.717617</td>\n",
              "      <td>0.792662</td>\n",
              "      <td>5004100</td>\n",
              "      <td>270.130005</td>\n",
              "    </tr>\n",
              "    <tr>\n",
              "      <th>2015-07-20</th>\n",
              "      <td>282.260010</td>\n",
              "      <td>5.177216</td>\n",
              "      <td>2.640004</td>\n",
              "      <td>4978500</td>\n",
              "      <td>246.130005</td>\n",
              "    </tr>\n",
              "    <tr>\n",
              "      <th>2015-07-21</th>\n",
              "      <td>266.769989</td>\n",
              "      <td>2.607395</td>\n",
              "      <td>-1.214589</td>\n",
              "      <td>6108700</td>\n",
              "      <td>242.509995</td>\n",
              "    </tr>\n",
              "    <tr>\n",
              "      <th>2015-07-22</th>\n",
              "      <td>267.869995</td>\n",
              "      <td>3.289127</td>\n",
              "      <td>2.526125</td>\n",
              "      <td>3105000</td>\n",
              "      <td>241.139999</td>\n",
              "    </tr>\n",
              "    <tr>\n",
              "      <th>2015-07-23</th>\n",
              "      <td>267.200012</td>\n",
              "      <td>1.745393</td>\n",
              "      <td>-0.908578</td>\n",
              "      <td>2227200</td>\n",
              "      <td>237.369995</td>\n",
              "    </tr>\n",
              "    <tr>\n",
              "      <th>2015-07-24</th>\n",
              "      <td>265.410004</td>\n",
              "      <td>2.716726</td>\n",
              "      <td>-0.736780</td>\n",
              "      <td>2836500</td>\n",
              "      <td>238.169998</td>\n",
              "    </tr>\n",
              "    <tr>\n",
              "      <th>2015-07-27</th>\n",
              "      <td>253.009995</td>\n",
              "      <td>5.438813</td>\n",
              "      <td>-3.589528</td>\n",
              "      <td>4694200</td>\n",
              "      <td>242.509995</td>\n",
              "    </tr>\n",
              "  </tbody>\n",
              "</table>\n",
              "</div>"
            ],
            "text/plain": [
              "             Adj Close    hl_pct  pct_change   Volume       label\n",
              "Date                                                             \n",
              "2015-07-07  267.880005  5.533621   -2.589089  6105100  265.410004\n",
              "2015-07-08  254.960007  2.552000   -1.681321  6221100  253.009995\n",
              "2015-07-09  257.920013  2.398849   -0.447728  3334100  264.820007\n",
              "2015-07-10  259.149994  2.009151   -1.170775  2610900  263.820007\n",
              "2015-07-13  262.160004  2.538567   -0.034317  2960300  266.790009\n",
              "2015-07-14  265.649994  2.103559    1.354440  1907600  266.149994\n",
              "2015-07-15  263.140015  2.064257   -1.349620  2021600  259.989990\n",
              "2015-07-16  266.679993  1.535191    0.931039  1616000  266.279999\n",
              "2015-07-17  274.660004  2.717617    0.792662  5004100  270.130005\n",
              "2015-07-20  282.260010  5.177216    2.640004  4978500  246.130005\n",
              "2015-07-21  266.769989  2.607395   -1.214589  6108700  242.509995\n",
              "2015-07-22  267.869995  3.289127    2.526125  3105000  241.139999\n",
              "2015-07-23  267.200012  1.745393   -0.908578  2227200  237.369995\n",
              "2015-07-24  265.410004  2.716726   -0.736780  2836500  238.169998\n",
              "2015-07-27  253.009995  5.438813   -3.589528  4694200  242.509995"
            ]
          },
          "metadata": {
            "tags": []
          },
          "execution_count": 17
        }
      ]
    },
    {
      "cell_type": "code",
      "metadata": {
        "id": "b4dIgOidp0yJ",
        "colab_type": "code",
        "colab": {}
      },
      "source": [
        "df.dropna(inplace=True)"
      ],
      "execution_count": 18,
      "outputs": []
    },
    {
      "cell_type": "code",
      "metadata": {
        "id": "EwTPwnkRqJr6",
        "colab_type": "code",
        "colab": {}
      },
      "source": [
        "features = df.drop([\"label\"], axis = 1)\n",
        "target = df.label"
      ],
      "execution_count": 19,
      "outputs": []
    },
    {
      "cell_type": "code",
      "metadata": {
        "id": "q9H1sXjTqZMe",
        "colab_type": "code",
        "colab": {
          "base_uri": "https://localhost:8080/",
          "height": 51
        },
        "outputId": "4e7f860b-b60f-4a25-bd35-14471c2fe29e"
      },
      "source": [
        "print(\"features: \", features.shape)\n",
        "print(\"target: \", target.shape)"
      ],
      "execution_count": 20,
      "outputs": [
        {
          "output_type": "stream",
          "text": [
            "features:  (1245, 4)\n",
            "target:  (1245,)\n"
          ],
          "name": "stdout"
        }
      ]
    },
    {
      "cell_type": "code",
      "metadata": {
        "id": "4u3lyHQ9qdY5",
        "colab_type": "code",
        "colab": {}
      },
      "source": [
        "scaler = StandardScaler()\n",
        "features = scaler.fit_transform(features)"
      ],
      "execution_count": 23,
      "outputs": []
    },
    {
      "cell_type": "code",
      "metadata": {
        "id": "LODK-S3Nq4hM",
        "colab_type": "code",
        "colab": {}
      },
      "source": [
        "train_features, test_features, train_target, test_target = train_test_split(features, target, test_size = 0.2)"
      ],
      "execution_count": 27,
      "outputs": []
    },
    {
      "cell_type": "code",
      "metadata": {
        "id": "nwcPRcmoq_yi",
        "colab_type": "code",
        "colab": {
          "base_uri": "https://localhost:8080/",
          "height": 85
        },
        "outputId": "58e4695e-be8d-48ec-b916-bde79859711f"
      },
      "source": [
        "print(\"train_features: \", train_features.shape)\n",
        "print(\"test_features: \", test_features.shape)\n",
        "print(\"train_target: \", train_target.shape)\n",
        "print(\"test_target: \", test_target.shape)"
      ],
      "execution_count": 29,
      "outputs": [
        {
          "output_type": "stream",
          "text": [
            "train_features:  (996, 4)\n",
            "test_features:  (249, 4)\n",
            "train_target:  (996,)\n",
            "test_target:  (249,)\n"
          ],
          "name": "stdout"
        }
      ]
    },
    {
      "cell_type": "code",
      "metadata": {
        "id": "09pxr9vFroFT",
        "colab_type": "code",
        "colab": {}
      },
      "source": [
        "model = SVR()\n",
        "model.fit(train_features, train_target)\n",
        "score = model.score(test_features, test_target)"
      ],
      "execution_count": 32,
      "outputs": []
    },
    {
      "cell_type": "code",
      "metadata": {
        "id": "55uuEGWns-Zg",
        "colab_type": "code",
        "colab": {
          "base_uri": "https://localhost:8080/",
          "height": 34
        },
        "outputId": "d26363da-e5ca-4734-97bb-3b11a547b546"
      },
      "source": [
        "score"
      ],
      "execution_count": 33,
      "outputs": [
        {
          "output_type": "execute_result",
          "data": {
            "text/plain": [
              "0.18942414170645117"
            ]
          },
          "metadata": {
            "tags": []
          },
          "execution_count": 33
        }
      ]
    },
    {
      "cell_type": "code",
      "metadata": {
        "id": "yZgI5EfQs_Rw",
        "colab_type": "code",
        "colab": {}
      },
      "source": [
        "linreg = LinearRegression()\n",
        "linreg.fit(train_features, train_target)\n",
        "lin_score = linreg.score(test_features, test_target)"
      ],
      "execution_count": 34,
      "outputs": []
    },
    {
      "cell_type": "code",
      "metadata": {
        "id": "SFWNEHjjtdYO",
        "colab_type": "code",
        "colab": {
          "base_uri": "https://localhost:8080/",
          "height": 34
        },
        "outputId": "fa304d32-624e-4937-cd8a-6e719a874854"
      },
      "source": [
        "lin_score"
      ],
      "execution_count": 35,
      "outputs": [
        {
          "output_type": "execute_result",
          "data": {
            "text/plain": [
              "0.8452615709466837"
            ]
          },
          "metadata": {
            "tags": []
          },
          "execution_count": 35
        }
      ]
    },
    {
      "cell_type": "code",
      "metadata": {
        "id": "DCI1MgLutem4",
        "colab_type": "code",
        "colab": {
          "base_uri": "https://localhost:8080/",
          "height": 85
        },
        "outputId": "8dbfaf9a-f0e8-47cb-8c0e-1f7e373d5c10"
      },
      "source": [
        "# testing different kernels for svr\n",
        "for k in [\"linear\", \"poly\", \"rbf\",\"sigmoid\"]:\n",
        "  clf = SVR(kernel = k)\n",
        "  clf.fit(train_features, train_target)\n",
        "  score = clf.score(test_features, test_target)\n",
        "  print(k, score)"
      ],
      "execution_count": 36,
      "outputs": [
        {
          "output_type": "stream",
          "text": [
            "linear 0.8248994063643849\n",
            "poly 0.4826965878472556\n",
            "rbf 0.18942414170645117\n",
            "sigmoid 0.4969291756602978\n"
          ],
          "name": "stdout"
        }
      ]
    },
    {
      "cell_type": "code",
      "metadata": {
        "id": "ZC36hs6zt9EC",
        "colab_type": "code",
        "colab": {}
      },
      "source": [
        ""
      ],
      "execution_count": null,
      "outputs": []
    }
  ]
}